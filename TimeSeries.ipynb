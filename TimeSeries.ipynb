{
 "cells": [
  {
   "cell_type": "code",
   "execution_count": 162,
   "metadata": {},
   "outputs": [],
   "source": [
    "import os\n",
    "import pandas as pd\n",
    "import numpy as np\n",
    "import matplotlib\n",
    "import matplotlib.pyplot as plt"
   ]
  },
  {
   "cell_type": "code",
   "execution_count": 12,
   "metadata": {},
   "outputs": [],
   "source": [
    "datos_temperatura = np.load('imagenes_temperatura.npz')\n",
    "temperatura = datos_temperatura['temperatura']"
   ]
  },
  {
   "cell_type": "code",
   "execution_count": 13,
   "metadata": {},
   "outputs": [],
   "source": [
    "datos_clorofila = np.load('imagenes_clorofila.npz')\n",
    "clorofila = datos_clorofila['clorofila']"
   ]
  },
  {
   "cell_type": "code",
   "execution_count": 100,
   "metadata": {},
   "outputs": [
    {
     "data": {
      "text/plain": [
       "<matplotlib.image.AxesImage at 0x7fb0500ac668>"
      ]
     },
     "execution_count": 100,
     "metadata": {},
     "output_type": "execute_result"
    }
   ],
   "source": [
    "%matplotlib qt\n",
    "plt.imshow(clorofila[50])"
   ]
  },
  {
   "cell_type": "code",
   "execution_count": 149,
   "metadata": {},
   "outputs": [
    {
     "data": {
      "text/plain": [
       "<matplotlib.image.AxesImage at 0x7fb030585b70>"
      ]
     },
     "execution_count": 149,
     "metadata": {},
     "output_type": "execute_result"
    }
   ],
   "source": [
    "from functools import reduce\n",
    "sclorof = reduce(lambda x,y:x+y, clorofila)\n",
    "plt.imshow(sclorof)"
   ]
  },
  {
   "cell_type": "code",
   "execution_count": 89,
   "metadata": {},
   "outputs": [],
   "source": [
    "def sampleArr(x, y, arrs, inf, sup):\n",
    "    \n",
    "    def aprox(x, y, arr):\n",
    "        i = 1\n",
    "        while(True):\n",
    "            dirs = [(-i,-i), (0, -i), (i, -i), (-i, 0), (i, 0), (-i, i), (0, i), (i, i)]\n",
    "            samps = 0\n",
    "            mean = 0\n",
    "            for d in dirs:\n",
    "                if  0 <= y + d[1] <= len(arr) and 0 <= x + d[0] <=len(arr[0]) and inf <= arr[y + d[1]][x + d[0]] <= sup:\n",
    "                    samps += 1\n",
    "                    mean += arr[y + d[1]][x + d[0]]\n",
    "            if samps != 0:\n",
    "                mean = mean / samps\n",
    "                return mean\n",
    "            i+=1\n",
    "                \n",
    "    ts = []\n",
    "    \n",
    "    for arr in arrs:\n",
    "        if inf <= arr[y][x] <= sup:\n",
    "            ts.append(arr[y][x])\n",
    "        else:\n",
    "            ts.append(aprox(x, y, arr))\n",
    "    \n",
    "    return np.array(ts)\n"
   ]
  },
  {
   "cell_type": "code",
   "execution_count": 301,
   "metadata": {},
   "outputs": [
    {
     "data": {
      "text/plain": [
       "([<matplotlib.axis.XTick at 0x7fb027eca0f0>,\n",
       "  <matplotlib.axis.XTick at 0x7fb027ec7a20>,\n",
       "  <matplotlib.axis.XTick at 0x7fb027ec7780>,\n",
       "  <matplotlib.axis.XTick at 0x7fb027e60e80>,\n",
       "  <matplotlib.axis.XTick at 0x7fb027e6a2b0>,\n",
       "  <matplotlib.axis.XTick at 0x7fb027e6a780>,\n",
       "  <matplotlib.axis.XTick at 0x7fb027e6ac88>,\n",
       "  <matplotlib.axis.XTick at 0x7fb027e731d0>,\n",
       "  <matplotlib.axis.XTick at 0x7fb027e736d8>],\n",
       " <a list of 9 Text xticklabel objects>)"
      ]
     },
     "execution_count": 301,
     "metadata": {},
     "output_type": "execute_result"
    }
   ],
   "source": [
    "ticks = [0, 9, 21, 32, 44, 55, 67, 78, 90]\n",
    "\n",
    "labels = ['Otoño 2017',\n",
    "'Invierno 2017',\n",
    "'Primavera 2018',\n",
    "'Verano 2018',\n",
    "'Otoño 2018',\n",
    "'Invierno 2018',\n",
    "'Primavera 2019',\n",
    "'Verano 2019',\n",
    "'Otoño 2019']\n",
    "\n",
    "plt.xticks(ticks, labels)"
   ]
  },
  {
   "cell_type": "code",
   "execution_count": 299,
   "metadata": {
    "scrolled": true
   },
   "outputs": [
    {
     "data": {
      "text/plain": [
       "[<matplotlib.lines.Line2D at 0x7fb027ea9588>]"
      ]
     },
     "execution_count": 299,
     "metadata": {},
     "output_type": "execute_result"
    }
   ],
   "source": [
    "#plt.plot(sampleArr(145, 146, clorofila, 0, 100), label = \"Norte de Honduras\") #ej1\n",
    "plt.plot(sampleArr(145, 146, temperatura, -273.15, 100), label = \"Norte de Honduras\") #sitio de ejemplo1"
   ]
  },
  {
   "cell_type": "code",
   "execution_count": 295,
   "metadata": {},
   "outputs": [
    {
     "data": {
      "text/plain": [
       "[<matplotlib.lines.Line2D at 0x7fb02886f048>]"
      ]
     },
     "execution_count": 295,
     "metadata": {},
     "output_type": "execute_result"
    }
   ],
   "source": [
    "#plt.plot(sampleArr(150, 137, clorofila, 0, 100), label = \"Este de Quintana Roo\") #ej2\n",
    "plt.plot(sampleArr(150, 137, temperatura, -273.15, 100), label = \"Este de Quintana Roo\") #sitio de ejemplo2"
   ]
  },
  {
   "cell_type": "code",
   "execution_count": 302,
   "metadata": {},
   "outputs": [
    {
     "data": {
      "text/plain": [
       "[<matplotlib.lines.Line2D at 0x7fb027e91400>]"
      ]
     },
     "execution_count": 302,
     "metadata": {},
     "output_type": "execute_result"
    }
   ],
   "source": [
    "#plt.plot(sampleArr(150, 115, clorofila, 0, 100), label = \"Costas cercanas a Cancún\") #ej3 'cancun'\n",
    "plt.plot(sampleArr(150, 115, temperatura, -273.15, 100), label = \"Costas cercanas a Cancún\") #sitio de ejemplo3"
   ]
  },
  {
   "cell_type": "code",
   "execution_count": 292,
   "metadata": {},
   "outputs": [
    {
     "data": {
      "text/plain": [
       "[<matplotlib.lines.Line2D at 0x7fb028815710>]"
      ]
     },
     "execution_count": 292,
     "metadata": {},
     "output_type": "execute_result"
    }
   ],
   "source": [
    "#plt.plot(sampleArr(152, 109, clorofila, 0, 100), label = \"Norte de la peninsula de Yucatán\") #ej4\n",
    "plt.plot(sampleArr(152, 109, temperatura, -273.15, 100), label = \"Norte de la peninsula de Yucatán\") #ej4"
   ]
  },
  {
   "cell_type": "code",
   "execution_count": 289,
   "metadata": {},
   "outputs": [
    {
     "data": {
      "text/plain": [
       "<matplotlib.legend.Legend at 0x7fb0288ebac8>"
      ]
     },
     "execution_count": 289,
     "metadata": {},
     "output_type": "execute_result"
    }
   ],
   "source": [
    "plt.legend(bbox_to_anchor=(1.05, 1), loc='center')"
   ]
  },
  {
   "cell_type": "code",
   "execution_count": null,
   "metadata": {},
   "outputs": [],
   "source": []
  },
  {
   "cell_type": "code",
   "execution_count": null,
   "metadata": {},
   "outputs": [],
   "source": []
  }
 ],
 "metadata": {
  "kernelspec": {
   "display_name": "Python 3",
   "language": "python",
   "name": "python3"
  },
  "language_info": {
   "codemirror_mode": {
    "name": "ipython",
    "version": 3
   },
   "file_extension": ".py",
   "mimetype": "text/x-python",
   "name": "python",
   "nbconvert_exporter": "python",
   "pygments_lexer": "ipython3",
   "version": "3.7.1"
  }
 },
 "nbformat": 4,
 "nbformat_minor": 2
}
