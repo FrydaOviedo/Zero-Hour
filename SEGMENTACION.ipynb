{
 "cells": [
  {
   "cell_type": "code",
   "execution_count": 1,
   "metadata": {},
   "outputs": [],
   "source": [
    "import os\n",
    "import pandas as pd\n",
    "import matplotlib.pyplot as plt\n",
    "import numpy as np"
   ]
  },
  {
   "cell_type": "code",
   "execution_count": 2,
   "metadata": {},
   "outputs": [
    {
     "data": {
      "text/plain": [
       "91"
      ]
     },
     "execution_count": 2,
     "metadata": {},
     "output_type": "execute_result"
    }
   ],
   "source": [
    "files = os.listdir('SEA SURFACE TEMPERATURE/')\n",
    "mainpath = 'SEA SURFACE TEMPERATURE/'\n",
    "len(files)"
   ]
  },
  {
   "cell_type": "code",
   "execution_count": 3,
   "metadata": {},
   "outputs": [
    {
     "data": {
      "text/plain": [
       "91"
      ]
     },
     "execution_count": 3,
     "metadata": {},
     "output_type": "execute_result"
    }
   ],
   "source": [
    "files_clorofila = os.listdir('CHLOROPHYLL CONCENTRATION/')\n",
    "mainpath_clorofila = 'CHLOROPHYLL CONCENTRATION/'\n",
    "len(files_clorofila)\n"
   ]
  },
  {
   "cell_type": "code",
   "execution_count": 8,
   "metadata": {
    "scrolled": true
   },
   "outputs": [
    {
     "name": "stdout",
     "output_type": "stream",
     "text": [
      "50\n"
     ]
    }
   ],
   "source": [
    "file_list = []\n",
    "for img in files[:50]:\n",
    "    try:\n",
    "        arr = pd.read_csv(mainpath + \"/\" + img).values    #, error_bad_lines=False)\n",
    "        file_list.append(arr)\n",
    "    except:\n",
    "        print(img)\n",
    "\n",
    "file_list = np.array(file_list)\n",
    "print(len(file_list))"
   ]
  },
  {
   "cell_type": "code",
   "execution_count": 9,
   "metadata": {},
   "outputs": [],
   "source": [
    "images = []\n",
    "for arr in file_list:\n",
    "    crop_arr = arr[570:820, 780:1130] \n",
    "    images.append(crop_arr)\n"
   ]
  },
  {
   "cell_type": "code",
   "execution_count": 10,
   "metadata": {},
   "outputs": [
    {
     "name": "stdout",
     "output_type": "stream",
     "text": [
      "41\n"
     ]
    }
   ],
   "source": [
    "file_list = []\n",
    "for img in files[50:]:\n",
    "    try:\n",
    "        arr = pd.read_csv(mainpath + img).values    #, error_bad_lines=False)\n",
    "        file_list.append(arr)\n",
    "    except:\n",
    "        print(img)\n",
    "\n",
    "file_list = np.array(file_list)\n",
    "print(len(file_list))"
   ]
  },
  {
   "cell_type": "code",
   "execution_count": 11,
   "metadata": {},
   "outputs": [],
   "source": [
    "for arr in file_list:\n",
    "    crop_arr = arr[570:820, 780:1130]\n",
    "    images.append(crop_arr)\n",
    "images = np.array(images)"
   ]
  },
  {
   "cell_type": "code",
   "execution_count": 13,
   "metadata": {},
   "outputs": [],
   "source": [
    "np.savez(\"imagenes_temperatura.npz\", temperatura=images)"
   ]
  },
  {
   "cell_type": "code",
   "execution_count": 9,
   "metadata": {},
   "outputs": [
    {
     "name": "stdout",
     "output_type": "stream",
     "text": [
      "50\n"
     ]
    }
   ],
   "source": [
    "files_clorofila_list = []\n",
    "for img_clorofila in files_clorofila[:50]:\n",
    "    try:\n",
    "        arr_clorofila = pd.read_csv(mainpath_clorofila+img_clorofila).values\n",
    "        files_clorofila_list.append(arr_clorofila)\n",
    "    except:\n",
    "        print(img_clorofila)\n",
    "print(len(files_clorofila_list))\n"
   ]
  },
  {
   "cell_type": "code",
   "execution_count": 10,
   "metadata": {},
   "outputs": [],
   "source": [
    "images_clorofila = []\n",
    "\n",
    "for arr in files_clorofila_list:\n",
    "    crop_arr = arr[570:820, 780:1130]\n",
    "    images_clorofila.append(crop_arr)\n"
   ]
  },
  {
   "cell_type": "code",
   "execution_count": 11,
   "metadata": {},
   "outputs": [],
   "source": [
    "files_clorofila_list = []\n",
    "for img_clorofila in files_clorofila[50:]:\n",
    "    try:\n",
    "        arr_clorofila = pd.read_csv(mainpath_clorofila+img_clorofila).values\n",
    "        files_clorofila_list.append(arr_clorofila)\n",
    "    except:\n",
    "        print(img_clorofila)\n",
    "files_clorofila_list = np.array(files_clorofila_list)"
   ]
  },
  {
   "cell_type": "code",
   "execution_count": 12,
   "metadata": {},
   "outputs": [],
   "source": [
    "for arr in files_clorofila_list:\n",
    "    crop_arr = arr[570:820, 780:1130]\n",
    "    images_clorofila.append(crop_arr)\n",
    "images_clorofila = np.array(images_clorofila)"
   ]
  },
  {
   "cell_type": "code",
   "execution_count": 13,
   "metadata": {},
   "outputs": [],
   "source": [
    "np.savez(\"imagenes_clorofila.npz\", clorofila=images_clorofila)"
   ]
  },
  {
   "cell_type": "code",
   "execution_count": null,
   "metadata": {},
   "outputs": [],
   "source": []
  }
 ],
 "metadata": {
  "kernelspec": {
   "display_name": "Python 3",
   "language": "python",
   "name": "python3"
  },
  "language_info": {
   "codemirror_mode": {
    "name": "ipython",
    "version": 3
   },
   "file_extension": ".py",
   "mimetype": "text/x-python",
   "name": "python",
   "nbconvert_exporter": "python",
   "pygments_lexer": "ipython3",
   "version": "3.7.1"
  }
 },
 "nbformat": 4,
 "nbformat_minor": 2
}
